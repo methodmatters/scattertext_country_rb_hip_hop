{
 "cells": [
  {
   "cell_type": "markdown",
   "metadata": {},
   "source": [
    "# This notebook contains the analysis code for the scatterplot of differences between Country and R&B/Hip-Hop music"
   ]
  },
  {
   "cell_type": "markdown",
   "metadata": {},
   "source": [
    "## Step 1: Load the Data"
   ]
  },
  {
   "cell_type": "code",
   "execution_count": 1,
   "metadata": {},
   "outputs": [],
   "source": [
    "import pandas as pd"
   ]
  },
  {
   "cell_type": "code",
   "execution_count": 2,
   "metadata": {},
   "outputs": [],
   "source": [
    "# set the directory where the data are stored\n",
    "# here I'm referencing the data directory from the \n",
    "# scripts directory (might only work in Linux)\n",
    "in_dir = '../Data/'\n",
    "raw_data_file_csv = 'country_rbhh_blog.csv'\n",
    "# function to read the raw data\n",
    "def read_raw_csv(in_dir_f, file_name_f):\n",
    "    raw_data_df_f = pd.read_csv(in_dir_f + file_name_f)\n",
    "    raw_data_df_f.fillna('', inplace=True)\n",
    "    return raw_data_df_f\n",
    "    "
   ]
  },
  {
   "cell_type": "code",
   "execution_count": 3,
   "metadata": {},
   "outputs": [],
   "source": [
    "raw_data_df = read_raw_csv(in_dir, raw_data_file_csv)"
   ]
  },
  {
   "cell_type": "code",
   "execution_count": 4,
   "metadata": {},
   "outputs": [
    {
     "data": {
      "text/plain": [
       "R&B/Hip-Hop    2754\n",
       "Country        2444\n",
       "Name: genre, dtype: int64"
      ]
     },
     "execution_count": 4,
     "metadata": {},
     "output_type": "execute_result"
    }
   ],
   "source": [
    "raw_data_df.genre.value_counts()"
   ]
  },
  {
   "cell_type": "code",
   "execution_count": 5,
   "metadata": {},
   "outputs": [
    {
     "data": {
      "text/html": [
       "<div>\n",
       "<style scoped>\n",
       "    .dataframe tbody tr th:only-of-type {\n",
       "        vertical-align: middle;\n",
       "    }\n",
       "\n",
       "    .dataframe tbody tr th {\n",
       "        vertical-align: top;\n",
       "    }\n",
       "\n",
       "    .dataframe thead th {\n",
       "        text-align: right;\n",
       "    }\n",
       "</style>\n",
       "<table border=\"1\" class=\"dataframe\">\n",
       "  <thead>\n",
       "    <tr style=\"text-align: right;\">\n",
       "      <th></th>\n",
       "      <th>rank</th>\n",
       "      <th>song</th>\n",
       "      <th>artist</th>\n",
       "      <th>genre</th>\n",
       "      <th>year</th>\n",
       "      <th>lyrics</th>\n",
       "      <th>lyrics_clean</th>\n",
       "      <th>lyrics_scrubbed</th>\n",
       "      <th>language</th>\n",
       "    </tr>\n",
       "  </thead>\n",
       "  <tbody>\n",
       "    <tr>\n",
       "      <th>5193</th>\n",
       "      <td>96</td>\n",
       "      <td>Ball If I Want To</td>\n",
       "      <td>DaBaby</td>\n",
       "      <td>R&amp;B/Hip-Hop</td>\n",
       "      <td>2021</td>\n",
       "      <td>Ball If I Want To Lyrics[Intro]\\n(If I want to...</td>\n",
       "      <td>(If I want to) (If I want to) (If I want to) ​...</td>\n",
       "      <td>dope bitch birthday ball ball pull foreign car...</td>\n",
       "      <td>en</td>\n",
       "    </tr>\n",
       "    <tr>\n",
       "      <th>5194</th>\n",
       "      <td>97</td>\n",
       "      <td>N 2 Deep</td>\n",
       "      <td>Drake Featuring Future</td>\n",
       "      <td>R&amp;B/Hip-Hop</td>\n",
       "      <td>2021</td>\n",
       "      <td>N 2 Deep Lyrics[Part I]\\n\\n[Verse 1: Drake]\\nO...</td>\n",
       "      <td>Oh yeah, yeah Kept the Galleria open 'til ten ...</td>\n",
       "      <td>yeah yeah galleria open friends spend crazy ba...</td>\n",
       "      <td>en</td>\n",
       "    </tr>\n",
       "    <tr>\n",
       "      <th>5195</th>\n",
       "      <td>98</td>\n",
       "      <td>Outside</td>\n",
       "      <td>MO3 &amp; OG Bobby Billions</td>\n",
       "      <td>R&amp;B/Hip-Hop</td>\n",
       "      <td>2021</td>\n",
       "      <td>Outside (Better Days) Lyrics[Intro: OG Bobby B...</td>\n",
       "      <td>Yeah, yeah They scared to come outside Tell th...</td>\n",
       "      <td>yeah yeah scared boys pray boys stay safe mama...</td>\n",
       "      <td>en</td>\n",
       "    </tr>\n",
       "    <tr>\n",
       "      <th>5196</th>\n",
       "      <td>99</td>\n",
       "      <td>WUSYANAME</td>\n",
       "      <td>Tyler, The Creator Featuring YoungBoy Never Br...</td>\n",
       "      <td>R&amp;B/Hip-Hop</td>\n",
       "      <td>2021</td>\n",
       "      <td>WUSYANAME Lyrics[Intro: Tyler, The Creator, Ty...</td>\n",
       "      <td>Something real, yeah Baby Oh nah, we don't do ...</td>\n",
       "      <td>real yeah baby nah backpack haha pick shit yea...</td>\n",
       "      <td>en</td>\n",
       "    </tr>\n",
       "    <tr>\n",
       "      <th>5197</th>\n",
       "      <td>100</td>\n",
       "      <td>Rags2Riches</td>\n",
       "      <td>Rod Wave Featuring ATR Son Son</td>\n",
       "      <td>R&amp;B/Hip-Hop</td>\n",
       "      <td>2021</td>\n",
       "      <td>Rags2Riches Lyrics[Intro: Rod Wave]\\n(Ayy, Zyp...</td>\n",
       "      <td>(Ayy, Zypitano got that gas) (Six, chill, fool...</td>\n",
       "      <td>ayy zypitano gas chill fool real real yeah uh ...</td>\n",
       "      <td>en</td>\n",
       "    </tr>\n",
       "  </tbody>\n",
       "</table>\n",
       "</div>"
      ],
      "text/plain": [
       "      rank               song  \\\n",
       "5193    96  Ball If I Want To   \n",
       "5194    97           N 2 Deep   \n",
       "5195    98            Outside   \n",
       "5196    99          WUSYANAME   \n",
       "5197   100        Rags2Riches   \n",
       "\n",
       "                                                 artist        genre  year  \\\n",
       "5193                                             DaBaby  R&B/Hip-Hop  2021   \n",
       "5194                             Drake Featuring Future  R&B/Hip-Hop  2021   \n",
       "5195                            MO3 & OG Bobby Billions  R&B/Hip-Hop  2021   \n",
       "5196  Tyler, The Creator Featuring YoungBoy Never Br...  R&B/Hip-Hop  2021   \n",
       "5197                     Rod Wave Featuring ATR Son Son  R&B/Hip-Hop  2021   \n",
       "\n",
       "                                                 lyrics  \\\n",
       "5193  Ball If I Want To Lyrics[Intro]\\n(If I want to...   \n",
       "5194  N 2 Deep Lyrics[Part I]\\n\\n[Verse 1: Drake]\\nO...   \n",
       "5195  Outside (Better Days) Lyrics[Intro: OG Bobby B...   \n",
       "5196  WUSYANAME Lyrics[Intro: Tyler, The Creator, Ty...   \n",
       "5197  Rags2Riches Lyrics[Intro: Rod Wave]\\n(Ayy, Zyp...   \n",
       "\n",
       "                                           lyrics_clean  \\\n",
       "5193  (If I want to) (If I want to) (If I want to) ​...   \n",
       "5194  Oh yeah, yeah Kept the Galleria open 'til ten ...   \n",
       "5195  Yeah, yeah They scared to come outside Tell th...   \n",
       "5196  Something real, yeah Baby Oh nah, we don't do ...   \n",
       "5197  (Ayy, Zypitano got that gas) (Six, chill, fool...   \n",
       "\n",
       "                                        lyrics_scrubbed language  \n",
       "5193  dope bitch birthday ball ball pull foreign car...       en  \n",
       "5194  yeah yeah galleria open friends spend crazy ba...       en  \n",
       "5195  yeah yeah scared boys pray boys stay safe mama...       en  \n",
       "5196  real yeah baby nah backpack haha pick shit yea...       en  \n",
       "5197  ayy zypitano gas chill fool real real yeah uh ...       en  "
      ]
     },
     "execution_count": 5,
     "metadata": {},
     "output_type": "execute_result"
    }
   ],
   "source": [
    "raw_data_df.tail()"
   ]
  },
  {
   "cell_type": "markdown",
   "metadata": {},
   "source": [
    "## Step 2: Cleaning (Remove Strange Characters, Unused Columns & Drop Duplicates)"
   ]
  },
  {
   "cell_type": "code",
   "execution_count": 6,
   "metadata": {},
   "outputs": [],
   "source": [
    "# cleaning function:\n",
    "def clean_raw_data(input_df):\n",
    "    text_cols = ['lyrics', 'lyrics_clean', 'lyrics_scrubbed']\n",
    "    # remove weird html things\n",
    "    for col in text_cols:\n",
    "        input_df[col] = input_df[col].str.replace('\\u200E', '')\n",
    "        input_df[col] = input_df[col].str.replace('",
    "', '')\n",
    "        input_df[col] = input_df[col].str.replace(\"Â€~\", '')\n",
    "        input_df[col] = input_df[col].str.replace(\"repeat chorus\", '', case = False)\n",
    "        input_df[col] = input_df[col].str.replace(\"instrumental\", '', case = False)\n",
    "    print(input_df.shape)\n",
    "    # remove duplicates on song and artist\n",
    "    input_df.drop_duplicates(subset = ['song', 'artist'], ignore_index = True, inplace = True)\n",
    "    # specify columns to keep:\n",
    "    cols_to_keep = ['song', 'artist', 'genre', 'lyrics_clean', 'lyrics_scrubbed']\n",
    "    input_df = input_df[cols_to_keep]\n",
    "    print(input_df.shape)\n",
    "    return(input_df)\n",
    "    \n",
    "    "
   ]
  },
  {
   "cell_type": "code",
   "execution_count": 7,
   "metadata": {},
   "outputs": [
    {
     "name": "stdout",
     "output_type": "stream",
     "text": [
      "(5198, 9)\n",
      "(4620, 5)\n"
     ]
    },
    {
     "data": {
      "text/plain": [
       "(4620, 5)"
      ]
     },
     "execution_count": 7,
     "metadata": {},
     "output_type": "execute_result"
    }
   ],
   "source": [
    "clean_df = clean_raw_data(raw_data_df)\n",
    "clean_df.shape"
   ]
  },
  {
   "cell_type": "markdown",
   "metadata": {},
   "source": [
    "## Step 3: Analysis with Scattertext\n",
    "### https://github.com/JasonKessler/scattertext\n",
    "### https://spacy.io/universe/project/scattertext"
   ]
  },
  {
   "cell_type": "code",
   "execution_count": 8,
   "metadata": {},
   "outputs": [],
   "source": [
    "import spacy\n",
    "# load the spaCy English language model\n",
    "# we use the small one here\n",
    "# for more info see:\n",
    "# https://spacy.io/models/en\n",
    "nlp = spacy.load('en_core_web_sm')\n",
    "\n",
    "# import scattertext\n",
    "import scattertext as st"
   ]
  },
  {
   "cell_type": "markdown",
   "metadata": {},
   "source": [
    "## Scattertext analysis with lyrics scrubbed column"
   ]
  },
  {
   "cell_type": "code",
   "execution_count": 9,
   "metadata": {},
   "outputs": [
    {
     "name": "stdout",
     "output_type": "stream",
     "text": [
      "CPU times: user 1min 30s, sys: 117 ms, total: 1min 30s\n",
      "Wall time: 1min 31s\n"
     ]
    }
   ],
   "source": [
    "%%time\n",
    "corpus_scrubbed = st.CorpusFromPandas(clean_df,\n",
    "                             category_col='genre',\n",
    "                             text_col='lyrics_scrubbed',\n",
    "                             nlp=nlp).build()"
   ]
  },
  {
   "cell_type": "markdown",
   "metadata": {},
   "source": [
    "## Produce the Scattertext HTML Visualization"
   ]
  },
  {
   "cell_type": "code",
   "execution_count": 10,
   "metadata": {},
   "outputs": [
    {
     "data": {
      "text/plain": [
       "4865595"
      ]
     },
     "execution_count": 10,
     "metadata": {},
     "output_type": "execute_result"
    }
   ],
   "source": [
    "html = st.produce_scattertext_explorer(\n",
    "    corpus_scrubbed,\n",
    "    category='R&B/Hip-Hop', category_name='R&B/Hip-Hop', not_category_name='Country',\n",
    "    minimum_term_frequency=50, pmi_threshold_coefficient=4,\n",
    "    width_in_pixels=1000, metadata=corpus_scrubbed.get_df()['song'],\n",
    "    transform=st.Scalers.dense_rank\n",
    ")\n",
    "\n",
    "open('lyrics_scrubbed_scatterplot.html', 'w').write(html)"
   ]
  },
  {
   "cell_type": "code",
   "execution_count": null,
   "metadata": {},
   "outputs": [],
   "source": []
  },
  {
   "cell_type": "code",
   "execution_count": null,
   "metadata": {},
   "outputs": [],
   "source": []
  },
  {
   "cell_type": "code",
   "execution_count": null,
   "metadata": {},
   "outputs": [],
   "source": []
  },
  {
   "cell_type": "code",
   "execution_count": null,
   "metadata": {},
   "outputs": [],
   "source": []
  }
 ],
 "metadata": {
  "kernelspec": {
   "display_name": "Python 3",
   "language": "python",
   "name": "python3"
  },
  "language_info": {
   "codemirror_mode": {
    "name": "ipython",
    "version": 3
   },
   "file_extension": ".py",
   "mimetype": "text/x-python",
   "name": "python",
   "nbconvert_exporter": "python",
   "pygments_lexer": "ipython3",
   "version": "3.8.5"
  }
 },
 "nbformat": 4,
 "nbformat_minor": 4
}
